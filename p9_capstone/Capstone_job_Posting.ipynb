{
 "cells": [
  {
   "cell_type": "markdown",
   "metadata": {},
   "source": [
    "## Project: Capstone Project - (New York City Current Job Postings _ Kaggle Data)\n",
    "\n",
    "## Table of Contents\n",
    "<ul>\n",
    "<li><a href=\"#intro\">Introduction</a></li>\n",
    "<li><a href=\"#Business understanding\">Business understanding</a></li>\n",
    "<li><a href=\"#Data understanding\">Data understanding</a></li>\n",
    "<li><a href=\"#Data preparation and clean\">Data preparation and clean</a></li>\n",
    "<li><a href=\"#Answer Questions base on dataset\">Answer Questions base on dataset</a></li>\n",
    "<li><a href=\"#conclusions\">Conclusions</a></li>\n",
    "</ul>\n",
    "Done by:\n",
    "Areej Albishi"
   ]
  },
  {
   "cell_type": "markdown",
   "metadata": {},
   "source": [
    "<a id='intro'></a>\n",
    "# Introduction\n",
    "\n",
    "\"This dataset contains current job postings available on the City of New York’s official jobs site (http://www.nyc.gov/html/careers/html/search/search.shtml). Internal postings available to city employees and external postings available to the general public are included.the  dataset is hosted by the City of New York. The city has an open data platform found(https://opendata.cityofnewyork.us/) and they update their information according the amount of data that is brought in. Explore New York City using Kaggle and all of the data sources available through the City of New York organization page!\n",
    "\n",
    "Update Frequency: This dataset is updated weekly.\"\n",
    "\n",
    "\n",
    "- Business understanding\n",
    "- Data understanding\n",
    "- Data preparation and clean\n",
    "- Answer Questions base on dataset \n",
    "- conclusions"
   ]
  },
  {
   "cell_type": "markdown",
   "metadata": {},
   "source": [
    "<a id='Business understanding'></a>\n",
    "\n",
    "# Business understanding\n",
    "\n",
    "In this project, i will focus to answer this 4 questions:\n",
    "- What is the top job posting Agencies in New York City? \n",
    "- What is the Top Business Title needed in New Yourk?\n",
    "- Full_Time and Part_Time of job posting indicator in New York?\n",
    "- What kind of Business Title in new york offerd highest number of job position ?\n"
   ]
  },
  {
   "cell_type": "code",
   "execution_count": 1,
   "metadata": {},
   "outputs": [],
   "source": [
    "# import all packages and set plots to be embedded inline\n",
    "import numpy as np\n",
    "import pandas as pd\n",
    "import matplotlib.pyplot as plt\n",
    "import datetime\n",
    "import glob\n",
    "import os\n",
    "%matplotlib inline\n",
    "import seaborn as sns\n",
    "import matplotlib\n",
    "\n",
    "# magic word for producing visualizations in notebook\n",
    "%matplotlib inline"
   ]
  },
  {
   "cell_type": "code",
   "execution_count": 2,
   "metadata": {},
   "outputs": [],
   "source": [
    "import pandas as pd\n",
    "df = pd.read_csv('nyc-jobs.csv',header=0,encoding = 'unicode_escape')"
   ]
  },
  {
   "cell_type": "markdown",
   "metadata": {},
   "source": [
    "<a id='Data understanding'></a>\n",
    "# Data understanding\n",
    "In this section i got ageneral idea about the data throw using head() and hist() plot and info() of the cloumns to get general idea about the data ."
   ]
  },
  {
   "cell_type": "code",
   "execution_count": 3,
   "metadata": {},
   "outputs": [
    {
     "data": {
      "text/html": [
       "<div>\n",
       "<style scoped>\n",
       "    .dataframe tbody tr th:only-of-type {\n",
       "        vertical-align: middle;\n",
       "    }\n",
       "\n",
       "    .dataframe tbody tr th {\n",
       "        vertical-align: top;\n",
       "    }\n",
       "\n",
       "    .dataframe thead th {\n",
       "        text-align: right;\n",
       "    }\n",
       "</style>\n",
       "<table border=\"1\" class=\"dataframe\">\n",
       "  <thead>\n",
       "    <tr style=\"text-align: right;\">\n",
       "      <th></th>\n",
       "      <th>Job ID</th>\n",
       "      <th>Agency</th>\n",
       "      <th>Posting Type</th>\n",
       "      <th># Of Positions</th>\n",
       "      <th>Business Title</th>\n",
       "      <th>Civil Service Title</th>\n",
       "      <th>Title Code No</th>\n",
       "      <th>Level</th>\n",
       "      <th>Job Category</th>\n",
       "      <th>Full-Time/Part-Time indicator</th>\n",
       "      <th>...</th>\n",
       "      <th>Additional Information</th>\n",
       "      <th>To Apply</th>\n",
       "      <th>Hours/Shift</th>\n",
       "      <th>Work Location 1</th>\n",
       "      <th>Recruitment Contact</th>\n",
       "      <th>Residency Requirement</th>\n",
       "      <th>Posting Date</th>\n",
       "      <th>Post Until</th>\n",
       "      <th>Posting Updated</th>\n",
       "      <th>Process Date</th>\n",
       "    </tr>\n",
       "  </thead>\n",
       "  <tbody>\n",
       "    <tr>\n",
       "      <th>0</th>\n",
       "      <td>87990</td>\n",
       "      <td>DEPARTMENT OF BUSINESS SERV.</td>\n",
       "      <td>Internal</td>\n",
       "      <td>1</td>\n",
       "      <td>Account Manager</td>\n",
       "      <td>CONTRACT REVIEWER (OFFICE OF L</td>\n",
       "      <td>40563</td>\n",
       "      <td>1</td>\n",
       "      <td>NaN</td>\n",
       "      <td>NaN</td>\n",
       "      <td>...</td>\n",
       "      <td>Salary range for this position is: $42,405 - $...</td>\n",
       "      <td>NaN</td>\n",
       "      <td>NaN</td>\n",
       "      <td>NaN</td>\n",
       "      <td>NaN</td>\n",
       "      <td>New York City residency is generally required ...</td>\n",
       "      <td>2011-06-24T00:00:00.000</td>\n",
       "      <td>NaN</td>\n",
       "      <td>2011-06-24T00:00:00.000</td>\n",
       "      <td>2019-12-17T00:00:00.000</td>\n",
       "    </tr>\n",
       "    <tr>\n",
       "      <th>1</th>\n",
       "      <td>97899</td>\n",
       "      <td>DEPARTMENT OF BUSINESS SERV.</td>\n",
       "      <td>Internal</td>\n",
       "      <td>1</td>\n",
       "      <td>EXECUTIVE DIRECTOR, BUSINESS DEVELOPMENT</td>\n",
       "      <td>ADMINISTRATIVE BUSINESS PROMOT</td>\n",
       "      <td>10009</td>\n",
       "      <td>M3</td>\n",
       "      <td>NaN</td>\n",
       "      <td>F</td>\n",
       "      <td>...</td>\n",
       "      <td>NaN</td>\n",
       "      <td>In addition to applying through this website, ...</td>\n",
       "      <td>NaN</td>\n",
       "      <td>NaN</td>\n",
       "      <td>NaN</td>\n",
       "      <td>New York City residency is generally required ...</td>\n",
       "      <td>2012-01-26T00:00:00.000</td>\n",
       "      <td>NaN</td>\n",
       "      <td>2012-01-26T00:00:00.000</td>\n",
       "      <td>2019-12-17T00:00:00.000</td>\n",
       "    </tr>\n",
       "    <tr>\n",
       "      <th>2</th>\n",
       "      <td>132292</td>\n",
       "      <td>NYC HOUSING AUTHORITY</td>\n",
       "      <td>External</td>\n",
       "      <td>52</td>\n",
       "      <td>Maintenance Worker - Technical Services-Heatin...</td>\n",
       "      <td>MAINTENANCE WORKER</td>\n",
       "      <td>90698</td>\n",
       "      <td>0</td>\n",
       "      <td>Maintenance &amp; Operations</td>\n",
       "      <td>F</td>\n",
       "      <td>...</td>\n",
       "      <td>1.  A Motor Vehicle DriverÃ¢â¬â¢s License va...</td>\n",
       "      <td>Click the \"Apply Now\" button.</td>\n",
       "      <td>NaN</td>\n",
       "      <td>NaN</td>\n",
       "      <td>NaN</td>\n",
       "      <td>NYCHA has no residency requirements.</td>\n",
       "      <td>2013-10-24T00:00:00.000</td>\n",
       "      <td>NaN</td>\n",
       "      <td>2013-12-12T00:00:00.000</td>\n",
       "      <td>2019-12-17T00:00:00.000</td>\n",
       "    </tr>\n",
       "    <tr>\n",
       "      <th>3</th>\n",
       "      <td>132292</td>\n",
       "      <td>NYC HOUSING AUTHORITY</td>\n",
       "      <td>Internal</td>\n",
       "      <td>52</td>\n",
       "      <td>Maintenance Worker - Technical Services-Heatin...</td>\n",
       "      <td>MAINTENANCE WORKER</td>\n",
       "      <td>90698</td>\n",
       "      <td>0</td>\n",
       "      <td>Maintenance &amp; Operations</td>\n",
       "      <td>F</td>\n",
       "      <td>...</td>\n",
       "      <td>1.  A Motor Vehicle DriverÃ¢â¬â¢s License va...</td>\n",
       "      <td>Click the \"Apply Now\" button.</td>\n",
       "      <td>NaN</td>\n",
       "      <td>NaN</td>\n",
       "      <td>NaN</td>\n",
       "      <td>NYCHA has no residency requirements.</td>\n",
       "      <td>2013-10-24T00:00:00.000</td>\n",
       "      <td>NaN</td>\n",
       "      <td>2013-12-12T00:00:00.000</td>\n",
       "      <td>2019-12-17T00:00:00.000</td>\n",
       "    </tr>\n",
       "    <tr>\n",
       "      <th>4</th>\n",
       "      <td>133921</td>\n",
       "      <td>NYC HOUSING AUTHORITY</td>\n",
       "      <td>Internal</td>\n",
       "      <td>50</td>\n",
       "      <td>Temporary Painter</td>\n",
       "      <td>PAINTER</td>\n",
       "      <td>91830</td>\n",
       "      <td>0</td>\n",
       "      <td>Maintenance &amp; Operations</td>\n",
       "      <td>F</td>\n",
       "      <td>...</td>\n",
       "      <td>SPECIAL NOTE:    1.  This is a temporary assig...</td>\n",
       "      <td>Click the \"Apply Now\" button.</td>\n",
       "      <td>NaN</td>\n",
       "      <td>NaN</td>\n",
       "      <td>NaN</td>\n",
       "      <td>NYCHA has no residency requirement.</td>\n",
       "      <td>2014-01-09T00:00:00.000</td>\n",
       "      <td>NaN</td>\n",
       "      <td>2014-01-08T00:00:00.000</td>\n",
       "      <td>2019-12-17T00:00:00.000</td>\n",
       "    </tr>\n",
       "  </tbody>\n",
       "</table>\n",
       "<p>5 rows × 28 columns</p>\n",
       "</div>"
      ],
      "text/plain": [
       "   Job ID                        Agency Posting Type  # Of Positions  \\\n",
       "0   87990  DEPARTMENT OF BUSINESS SERV.     Internal               1   \n",
       "1   97899  DEPARTMENT OF BUSINESS SERV.     Internal               1   \n",
       "2  132292         NYC HOUSING AUTHORITY     External              52   \n",
       "3  132292         NYC HOUSING AUTHORITY     Internal              52   \n",
       "4  133921         NYC HOUSING AUTHORITY     Internal              50   \n",
       "\n",
       "                                      Business Title  \\\n",
       "0                                    Account Manager   \n",
       "1           EXECUTIVE DIRECTOR, BUSINESS DEVELOPMENT   \n",
       "2  Maintenance Worker - Technical Services-Heatin...   \n",
       "3  Maintenance Worker - Technical Services-Heatin...   \n",
       "4                                  Temporary Painter   \n",
       "\n",
       "              Civil Service Title Title Code No Level  \\\n",
       "0  CONTRACT REVIEWER (OFFICE OF L         40563     1   \n",
       "1  ADMINISTRATIVE BUSINESS PROMOT         10009    M3   \n",
       "2              MAINTENANCE WORKER         90698     0   \n",
       "3              MAINTENANCE WORKER         90698     0   \n",
       "4                         PAINTER         91830     0   \n",
       "\n",
       "               Job Category Full-Time/Part-Time indicator  ...  \\\n",
       "0                       NaN                           NaN  ...   \n",
       "1                       NaN                             F  ...   \n",
       "2  Maintenance & Operations                             F  ...   \n",
       "3  Maintenance & Operations                             F  ...   \n",
       "4  Maintenance & Operations                             F  ...   \n",
       "\n",
       "                              Additional Information  \\\n",
       "0  Salary range for this position is: $42,405 - $...   \n",
       "1                                                NaN   \n",
       "2  1.  A Motor Vehicle DriverÃ¢â¬â¢s License va...   \n",
       "3  1.  A Motor Vehicle DriverÃ¢â¬â¢s License va...   \n",
       "4  SPECIAL NOTE:    1.  This is a temporary assig...   \n",
       "\n",
       "                                            To Apply Hours/Shift  \\\n",
       "0                                                NaN         NaN   \n",
       "1  In addition to applying through this website, ...         NaN   \n",
       "2                      Click the \"Apply Now\" button.         NaN   \n",
       "3                      Click the \"Apply Now\" button.         NaN   \n",
       "4                      Click the \"Apply Now\" button.         NaN   \n",
       "\n",
       "  Work Location 1 Recruitment Contact  \\\n",
       "0             NaN                 NaN   \n",
       "1             NaN                 NaN   \n",
       "2             NaN                 NaN   \n",
       "3             NaN                 NaN   \n",
       "4             NaN                 NaN   \n",
       "\n",
       "                               Residency Requirement             Posting Date  \\\n",
       "0  New York City residency is generally required ...  2011-06-24T00:00:00.000   \n",
       "1  New York City residency is generally required ...  2012-01-26T00:00:00.000   \n",
       "2               NYCHA has no residency requirements.  2013-10-24T00:00:00.000   \n",
       "3               NYCHA has no residency requirements.  2013-10-24T00:00:00.000   \n",
       "4                NYCHA has no residency requirement.  2014-01-09T00:00:00.000   \n",
       "\n",
       "  Post Until          Posting Updated             Process Date  \n",
       "0        NaN  2011-06-24T00:00:00.000  2019-12-17T00:00:00.000  \n",
       "1        NaN  2012-01-26T00:00:00.000  2019-12-17T00:00:00.000  \n",
       "2        NaN  2013-12-12T00:00:00.000  2019-12-17T00:00:00.000  \n",
       "3        NaN  2013-12-12T00:00:00.000  2019-12-17T00:00:00.000  \n",
       "4        NaN  2014-01-08T00:00:00.000  2019-12-17T00:00:00.000  \n",
       "\n",
       "[5 rows x 28 columns]"
      ]
     },
     "execution_count": 3,
     "metadata": {},
     "output_type": "execute_result"
    }
   ],
   "source": [
    "df.head()"
   ]
  },
  {
   "cell_type": "code",
   "execution_count": 4,
   "metadata": {},
   "outputs": [
    {
     "name": "stdout",
     "output_type": "stream",
     "text": [
      "<class 'pandas.core.frame.DataFrame'>\n",
      "RangeIndex: 2946 entries, 0 to 2945\n",
      "Data columns (total 28 columns):\n",
      "Job ID                           2946 non-null int64\n",
      "Agency                           2946 non-null object\n",
      "Posting Type                     2946 non-null object\n",
      "# Of Positions                   2946 non-null int64\n",
      "Business Title                   2946 non-null object\n",
      "Civil Service Title              2946 non-null object\n",
      "Title Code No                    2946 non-null object\n",
      "Level                            2946 non-null object\n",
      "Job Category                     2944 non-null object\n",
      "Full-Time/Part-Time indicator    2751 non-null object\n",
      "Salary Range From                2946 non-null float64\n",
      "Salary Range To                  2946 non-null float64\n",
      "Salary Frequency                 2946 non-null object\n",
      "Work Location                    2946 non-null object\n",
      "Division/Work Unit               2946 non-null object\n",
      "Job Description                  2946 non-null object\n",
      "Minimum Qual Requirements        2926 non-null object\n",
      "Preferred Skills                 2553 non-null object\n",
      "Additional Information           1854 non-null object\n",
      "To Apply                         2945 non-null object\n",
      "Hours/Shift                      884 non-null object\n",
      "Work Location 1                  1358 non-null object\n",
      "Recruitment Contact              0 non-null float64\n",
      "Residency Requirement            2942 non-null object\n",
      "Posting Date                     2942 non-null object\n",
      "Post Until                       871 non-null object\n",
      "Posting Updated                  2942 non-null object\n",
      "Process Date                     2942 non-null object\n",
      "dtypes: float64(3), int64(2), object(23)\n",
      "memory usage: 644.5+ KB\n"
     ]
    }
   ],
   "source": [
    "df.info()"
   ]
  },
  {
   "cell_type": "code",
   "execution_count": 5,
   "metadata": {},
   "outputs": [
    {
     "data": {
      "image/png": "[encoded data removed]",
      "text/plain": [
       "<Figure size 576x576 with 6 Axes>"
      ]
     },
     "metadata": {
      "needs_background": "light"
     },
     "output_type": "display_data"
    }
   ],
   "source": [
    "df.hist(figsize=(8,8));"
   ]
  },
  {
   "cell_type": "markdown",
   "metadata": {},
   "source": [
    "<a id='Data preparation and clean'></a>\n",
    "# Data preparation and clean\n",
    "In this section of the report, i will check for duplication, null values and drop unnessecary cloumns in analysis ,i will clean the dataset to prepare it for analysis."
   ]
  },
  {
   "cell_type": "code",
   "execution_count": 6,
   "metadata": {},
   "outputs": [],
   "source": [
    "#rename coloumns\n",
    "df.columns = ['Job_ID', 'Agency', 'Posting_Type','Number_Of_Positions', 'Business_Title', 'Civil_Service_Title','Title_Code_No','Level', 'Job_Category', 'Full_Time_and_Part_Time_indicator','Salary_Range_From', 'Salary_Range_To', 'Salary_Frequency','Work_Location','Division_and_Work_Unit', 'Job_Description', 'Minimum_Qual_Requirements','Preferred_Skills','Additional_Information', 'To_Apply','Hours_and_Shift','Work_Location_1','Recruitment_Contact','Residency_Requirement','Posting_Date','Post_Until','Posting_Updated','Process_Date']"
   ]
  },
  {
   "cell_type": "code",
   "execution_count": 7,
   "metadata": {},
   "outputs": [
    {
     "name": "stdout",
     "output_type": "stream",
     "text": [
      "<class 'pandas.core.frame.DataFrame'>\n",
      "RangeIndex: 2946 entries, 0 to 2945\n",
      "Data columns (total 28 columns):\n",
      "Job_ID                               2946 non-null int64\n",
      "Agency                               2946 non-null object\n",
      "Posting_Type                         2946 non-null object\n",
      "Number_Of_Positions                  2946 non-null int64\n",
      "Business_Title                       2946 non-null object\n",
      "Civil_Service_Title                  2946 non-null object\n",
      "Title_Code_No                        2946 non-null object\n",
      "Level                                2946 non-null object\n",
      "Job_Category                         2944 non-null object\n",
      "Full_Time_and_Part_Time_indicator    2751 non-null object\n",
      "Salary_Range_From                    2946 non-null float64\n",
      "Salary_Range_To                      2946 non-null float64\n",
      "Salary_Frequency                     2946 non-null object\n",
      "Work_Location                        2946 non-null object\n",
      "Division_and_Work_Unit               2946 non-null object\n",
      "Job_Description                      2946 non-null object\n",
      "Minimum_Qual_Requirements            2926 non-null object\n",
      "Preferred_Skills                     2553 non-null object\n",
      "Additional_Information               1854 non-null object\n",
      "To_Apply                             2945 non-null object\n",
      "Hours_and_Shift                      884 non-null object\n",
      "Work_Location_1                      1358 non-null object\n",
      "Recruitment_Contact                  0 non-null float64\n",
      "Residency_Requirement                2942 non-null object\n",
      "Posting_Date                         2942 non-null object\n",
      "Post_Until                           871 non-null object\n",
      "Posting_Updated                      2942 non-null object\n",
      "Process_Date                         2942 non-null object\n",
      "dtypes: float64(3), int64(2), object(23)\n",
      "memory usage: 644.5+ KB\n"
     ]
    }
   ],
   "source": [
    "#check rename coloumns\n",
    "df.info()"
   ]
  },
  {
   "cell_type": "code",
   "execution_count": 8,
   "metadata": {},
   "outputs": [
    {
     "data": {
      "text/plain": [
       "31"
      ]
     },
     "execution_count": 8,
     "metadata": {},
     "output_type": "execute_result"
    }
   ],
   "source": [
    "#check duplication\n",
    "df.duplicated().sum()"
   ]
  },
  {
   "cell_type": "code",
   "execution_count": 9,
   "metadata": {},
   "outputs": [],
   "source": [
    "#drop duplicated rows\n",
    "df = df.drop_duplicates(keep='last')"
   ]
  },
  {
   "cell_type": "code",
   "execution_count": 10,
   "metadata": {},
   "outputs": [
    {
     "data": {
      "text/plain": [
       "0"
      ]
     },
     "execution_count": 10,
     "metadata": {},
     "output_type": "execute_result"
    }
   ],
   "source": [
    "#check\n",
    "df.duplicated().sum()"
   ]
  },
  {
   "cell_type": "code",
   "execution_count": 11,
   "metadata": {},
   "outputs": [
    {
     "data": {
      "text/html": [
       "<div>\n",
       "<style scoped>\n",
       "    .dataframe tbody tr th:only-of-type {\n",
       "        vertical-align: middle;\n",
       "    }\n",
       "\n",
       "    .dataframe tbody tr th {\n",
       "        vertical-align: top;\n",
       "    }\n",
       "\n",
       "    .dataframe thead th {\n",
       "        text-align: right;\n",
       "    }\n",
       "</style>\n",
       "<table border=\"1\" class=\"dataframe\">\n",
       "  <thead>\n",
       "    <tr style=\"text-align: right;\">\n",
       "      <th></th>\n",
       "      <th>Job_ID</th>\n",
       "      <th>Agency</th>\n",
       "      <th>Posting_Type</th>\n",
       "      <th>Number_Of_Positions</th>\n",
       "      <th>Business_Title</th>\n",
       "      <th>Civil_Service_Title</th>\n",
       "      <th>Job_Category</th>\n",
       "      <th>Full_Time_and_Part_Time_indicator</th>\n",
       "      <th>Salary_Frequency</th>\n",
       "    </tr>\n",
       "  </thead>\n",
       "  <tbody>\n",
       "    <tr>\n",
       "      <th>0</th>\n",
       "      <td>87990</td>\n",
       "      <td>DEPARTMENT OF BUSINESS SERV.</td>\n",
       "      <td>Internal</td>\n",
       "      <td>1</td>\n",
       "      <td>Account Manager</td>\n",
       "      <td>CONTRACT REVIEWER (OFFICE OF L</td>\n",
       "      <td>NaN</td>\n",
       "      <td>NaN</td>\n",
       "      <td>Annual</td>\n",
       "    </tr>\n",
       "    <tr>\n",
       "      <th>1</th>\n",
       "      <td>97899</td>\n",
       "      <td>DEPARTMENT OF BUSINESS SERV.</td>\n",
       "      <td>Internal</td>\n",
       "      <td>1</td>\n",
       "      <td>EXECUTIVE DIRECTOR, BUSINESS DEVELOPMENT</td>\n",
       "      <td>ADMINISTRATIVE BUSINESS PROMOT</td>\n",
       "      <td>NaN</td>\n",
       "      <td>F</td>\n",
       "      <td>Annual</td>\n",
       "    </tr>\n",
       "    <tr>\n",
       "      <th>2</th>\n",
       "      <td>132292</td>\n",
       "      <td>NYC HOUSING AUTHORITY</td>\n",
       "      <td>External</td>\n",
       "      <td>52</td>\n",
       "      <td>Maintenance Worker - Technical Services-Heatin...</td>\n",
       "      <td>MAINTENANCE WORKER</td>\n",
       "      <td>Maintenance &amp; Operations</td>\n",
       "      <td>F</td>\n",
       "      <td>Annual</td>\n",
       "    </tr>\n",
       "    <tr>\n",
       "      <th>3</th>\n",
       "      <td>132292</td>\n",
       "      <td>NYC HOUSING AUTHORITY</td>\n",
       "      <td>Internal</td>\n",
       "      <td>52</td>\n",
       "      <td>Maintenance Worker - Technical Services-Heatin...</td>\n",
       "      <td>MAINTENANCE WORKER</td>\n",
       "      <td>Maintenance &amp; Operations</td>\n",
       "      <td>F</td>\n",
       "      <td>Annual</td>\n",
       "    </tr>\n",
       "    <tr>\n",
       "      <th>4</th>\n",
       "      <td>133921</td>\n",
       "      <td>NYC HOUSING AUTHORITY</td>\n",
       "      <td>Internal</td>\n",
       "      <td>50</td>\n",
       "      <td>Temporary Painter</td>\n",
       "      <td>PAINTER</td>\n",
       "      <td>Maintenance &amp; Operations</td>\n",
       "      <td>F</td>\n",
       "      <td>Hourly</td>\n",
       "    </tr>\n",
       "  </tbody>\n",
       "</table>\n",
       "</div>"
      ],
      "text/plain": [
       "   Job_ID                        Agency Posting_Type  Number_Of_Positions  \\\n",
       "0   87990  DEPARTMENT OF BUSINESS SERV.     Internal                    1   \n",
       "1   97899  DEPARTMENT OF BUSINESS SERV.     Internal                    1   \n",
       "2  132292         NYC HOUSING AUTHORITY     External                   52   \n",
       "3  132292         NYC HOUSING AUTHORITY     Internal                   52   \n",
       "4  133921         NYC HOUSING AUTHORITY     Internal                   50   \n",
       "\n",
       "                                      Business_Title  \\\n",
       "0                                    Account Manager   \n",
       "1           EXECUTIVE DIRECTOR, BUSINESS DEVELOPMENT   \n",
       "2  Maintenance Worker - Technical Services-Heatin...   \n",
       "3  Maintenance Worker - Technical Services-Heatin...   \n",
       "4                                  Temporary Painter   \n",
       "\n",
       "              Civil_Service_Title              Job_Category  \\\n",
       "0  CONTRACT REVIEWER (OFFICE OF L                       NaN   \n",
       "1  ADMINISTRATIVE BUSINESS PROMOT                       NaN   \n",
       "2              MAINTENANCE WORKER  Maintenance & Operations   \n",
       "3              MAINTENANCE WORKER  Maintenance & Operations   \n",
       "4                         PAINTER  Maintenance & Operations   \n",
       "\n",
       "  Full_Time_and_Part_Time_indicator Salary_Frequency  \n",
       "0                               NaN           Annual  \n",
       "1                                 F           Annual  \n",
       "2                                 F           Annual  \n",
       "3                                 F           Annual  \n",
       "4                                 F           Hourly  "
      ]
     },
     "execution_count": 11,
     "metadata": {},
     "output_type": "execute_result"
    }
   ],
   "source": [
    "#drop coloumn that not used in analysis\n",
    "df.drop(['Title_Code_No','Level','Salary_Range_From','Salary_Range_To','Work_Location_1','Division_and_Work_Unit','Job_Description','Minimum_Qual_Requirements','Preferred_Skills','Additional_Information','To_Apply','Hours_and_Shift','Work_Location','Recruitment_Contact','Residency_Requirement','Posting_Date','Post_Until','Posting_Updated','Process_Date'], axis=1, inplace=True)\n",
    "df.head()"
   ]
  },
  {
   "cell_type": "code",
   "execution_count": 12,
   "metadata": {},
   "outputs": [
    {
     "data": {
      "text/plain": [
       "Job_ID                                 0\n",
       "Agency                                 0\n",
       "Posting_Type                           0\n",
       "Number_Of_Positions                    0\n",
       "Business_Title                         0\n",
       "Civil_Service_Title                    0\n",
       "Job_Category                           2\n",
       "Full_Time_and_Part_Time_indicator    193\n",
       "Salary_Frequency                       0\n",
       "dtype: int64"
      ]
     },
     "execution_count": 12,
     "metadata": {},
     "output_type": "execute_result"
    }
   ],
   "source": [
    "#check null\n",
    "df.isnull().sum()"
   ]
  },
  {
   "cell_type": "code",
   "execution_count": 13,
   "metadata": {},
   "outputs": [
    {
     "data": {
      "text/plain": [
       "Internal    1653\n",
       "External    1262\n",
       "Name: Posting_Type, dtype: int64"
      ]
     },
     "execution_count": 13,
     "metadata": {},
     "output_type": "execute_result"
    }
   ],
   "source": [
    "df.Posting_Type.value_counts()"
   ]
  },
  {
   "cell_type": "code",
   "execution_count": 14,
   "metadata": {},
   "outputs": [
    {
     "data": {
      "text/plain": [
       "DEPT OF ENVIRONMENT PROTECTION    650\n",
       "NYC HOUSING AUTHORITY             231\n",
       "DEPT OF HEALTH/MENTAL HYGIENE     187\n",
       "DEPARTMENT OF TRANSPORTATION      180\n",
       "DEPT OF DESIGN & CONSTRUCTION     142\n",
       "TAXI & LIMOUSINE COMMISSION       134\n",
       "ADMIN FOR CHILDREN'S SVCS         108\n",
       "DEPT OF INFO TECH & TELECOMM      107\n",
       "LAW DEPARTMENT                     90\n",
       "HOUSING PRESERVATION & DVLPMNT     86\n",
       "OFFICE OF THE COMPTROLLER          64\n",
       "POLICE DEPARTMENT                  63\n",
       "OFFICE OF MANAGEMENT & BUDGET      58\n",
       "NYC EMPLOYEES RETIREMENT SYS       54\n",
       "DEPARTMENT OF INVESTIGATION        53\n",
       "DEPARTMENT OF BUSINESS SERV.       52\n",
       "DEPARTMENT OF CORRECTION           49\n",
       "DEPARTMENT OF CITY PLANNING        43\n",
       "DEPT OF CITYWIDE ADMIN SVCS        42\n",
       "DEPARTMENT OF SANITATION           40\n",
       "DEPT OF YOUTH & COMM DEV SRVS      38\n",
       "DEPT OF PARKS & RECREATION         37\n",
       "DEPARTMENT FOR THE AGING           36\n",
       "HUMAN RIGHTS COMMISSION            34\n",
       "HRA/DEPT OF SOCIAL SERVICES        31\n",
       "FINANCIAL INFO SVCS AGENCY         31\n",
       "MAYORS OFFICE OF CONTRACT SVCS     28\n",
       "ADMIN TRIALS AND HEARINGS          25\n",
       "DEPARTMENT OF FINANCE              24\n",
       "DEPARTMENT OF PROBATION            23\n",
       "FIRE DEPARTMENT                    22\n",
       "CIVILIAN COMPLAINT REVIEW BD       17\n",
       "DISTRICT ATTORNEY RICHMOND COU     17\n",
       "BOROUGH PRESIDENT-QUEENS           16\n",
       "DEPARTMENT OF BUILDINGS            15\n",
       "CONSUMER AFFAIRS                   12\n",
       "OFF OF PAYROLL ADMINISTRATION      12\n",
       "DISTRICT ATTORNEY KINGS COUNTY     12\n",
       "DEPT. OF HOMELESS SERVICES          8\n",
       "PRESIDENT BOROUGH OF MANHATTAN      8\n",
       "BUSINESS INTEGRITY COMMISSION       7\n",
       "TAX COMMISSION                      6\n",
       "EQUAL EMPLOY PRACTICES COMM         4\n",
       "BOARD OF CORRECTION                 4\n",
       "TEACHERS RETIREMENT SYSTEM          2\n",
       "OFFICE OF EMERGENCY MANAGEMENT      2\n",
       "CONFLICTS OF INTEREST BOARD         2\n",
       "LANDMARKS PRESERVATION COMM         2\n",
       "NYC DEPT OF VETERANS' SERVICES      2\n",
       "OFFICE OF COLLECTIVE BARGAININ      2\n",
       "MANHATTAN COMMUNITY BOARD #8        2\n",
       "PUBLIC ADMINISTRATOR-NEW YORK       1\n",
       "Name: Agency, dtype: int64"
      ]
     },
     "execution_count": 14,
     "metadata": {},
     "output_type": "execute_result"
    }
   ],
   "source": [
    "df.Agency.value_counts()"
   ]
  },
  {
   "cell_type": "code",
   "execution_count": 15,
   "metadata": {},
   "outputs": [
    {
     "data": {
      "text/plain": [
       "Assistant Civil Engineer                                                                                 32\n",
       "Project Manager                                                                                          29\n",
       "College Aide                                                                                             24\n",
       "Construction Project Manager                                                                             22\n",
       "ACCOUNTABLE MANAGER                                                                                      20\n",
       "Confidential Investigator                                                                                18\n",
       "Watershed Maintainer                                                                                     17\n",
       "Investigator                                                                                             16\n",
       "Prosecuting Attorney                                                                                     16\n",
       "Senior Project Manager                                                                                   15\n",
       "Stationary Engineer (Electric)                                                                           13\n",
       "Civil Engineer 2                                                                                         12\n",
       "COMPUTER SPECIALIST (SOFTWARE)                                                                           12\n",
       "Budget Analyst                                                                                           12\n",
       "Administrative Assistant                                                                                 11\n",
       "Data Scientist                                                                                           11\n",
       "Civil Engineer 3                                                                                         11\n",
       "Deputy Director                                                                                          11\n",
       "Information Representative                                                                               10\n",
       "Agency Attorney                                                                                          10\n",
       "Assistant General Counsel                                                                                10\n",
       "Policy Analyst                                                                                           10\n",
       "Community Coordinator                                                                                    10\n",
       "Engineering Technician I                                                                                 10\n",
       "PROGRAM MANAGER                                                                                          10\n",
       "Community Assistant                                                                                       8\n",
       "ASSISTANT PROJECT MANAGER                                                                                 8\n",
       "Electrician                                                                                               8\n",
       "Mechanical Engineer                                                                                       8\n",
       "Assistant Corporation Counsel                                                                             8\n",
       "                                                                                                         ..\n",
       "Network Engineer, Solutions and Logistics                                                                 1\n",
       "Payment Processor                                                                                         1\n",
       "Direct Care Supervisor                                                                                    1\n",
       "Instructor, Division of Environmental Health, Bureau of Environmental Administration (Health Academy)     1\n",
       "ASSISTANT RESIDENT BUILDING SUPT                                                                          1\n",
       "Planning Team Leader                                                                                      1\n",
       "Senior Application Developer                                                                              1\n",
       "Bookkeeper, Level III                                                                                     1\n",
       "Child Protective Support Worker                                                                           1\n",
       "Youth  Justice Coordinator                                                                                1\n",
       "SECTION SUPERVISOR                                                                                        1\n",
       "Caretaker I                                                                                               1\n",
       "COMMUNITY ASSESSMENT SPECIALIST-QUEENS                                                                    1\n",
       "Training Coordinator                                                                                      1\n",
       "Area Engineer, BEDC Coordination and Project Development Section                                          1\n",
       "Designated Felony Assistant Corporation Counsel                                                           1\n",
       "Customer Service Supervisor                                                                               1\n",
       "CoQI Facilitator                                                                                          1\n",
       "Plumber                                                                                                   1\n",
       "Community Service Aide                                                                                    1\n",
       "Assistant Procurement Liaison                                                                             1\n",
       "Deputy Chief of Payments and Procurement                                                                  1\n",
       "Vmware VDI Architect                                                                                      1\n",
       "Check Processing Supervisor                                                                               1\n",
       "Remissions Adjustments Coordinator                                                                        1\n",
       "Grant Travel Administrator                                                                                1\n",
       "Senior Civil Service Advisor                                                                              1\n",
       "City Park Worker                                                                                          1\n",
       "Contract Payment Specialist                                                                               1\n",
       "Applications Worker                                                                                       1\n",
       "Name: Business_Title, Length: 1244, dtype: int64"
      ]
     },
     "execution_count": 15,
     "metadata": {},
     "output_type": "execute_result"
    }
   ],
   "source": [
    "df.Business_Title.value_counts()"
   ]
  },
  {
   "cell_type": "code",
   "execution_count": 16,
   "metadata": {},
   "outputs": [
    {
     "data": {
      "text/plain": [
       "F    2597\n",
       "P     125\n",
       "Name: Full_Time_and_Part_Time_indicator, dtype: int64"
      ]
     },
     "execution_count": 16,
     "metadata": {},
     "output_type": "execute_result"
    }
   ],
   "source": [
    "df.Full_Time_and_Part_Time_indicator.value_counts()"
   ]
  },
  {
   "cell_type": "code",
   "execution_count": 17,
   "metadata": {},
   "outputs": [
    {
     "data": {
      "text/plain": [
       "Annual    2683\n",
       "Hourly     194\n",
       "Daily       38\n",
       "Name: Salary_Frequency, dtype: int64"
      ]
     },
     "execution_count": 17,
     "metadata": {},
     "output_type": "execute_result"
    }
   ],
   "source": [
    "df.Salary_Frequency.value_counts()"
   ]
  },
  {
   "cell_type": "markdown",
   "metadata": {},
   "source": [
    "<a id='Answer Questions base on dataset'></a>\n",
    "# Answer Questions base on dataset"
   ]
  },
  {
   "cell_type": "markdown",
   "metadata": {},
   "source": [
    "## What is the top job posting Agencies in New York City?\n"
   ]
  },
  {
   "cell_type": "code",
   "execution_count": 18,
   "metadata": {},
   "outputs": [
    {
     "name": "stdout",
     "output_type": "stream",
     "text": [
      "DEPT OF ENVIRONMENT PROTECTION    650\n",
      "NYC HOUSING AUTHORITY             231\n",
      "DEPT OF HEALTH/MENTAL HYGIENE     187\n",
      "DEPARTMENT OF TRANSPORTATION      180\n",
      "DEPT OF DESIGN & CONSTRUCTION     142\n",
      "TAXI & LIMOUSINE COMMISSION       134\n",
      "ADMIN FOR CHILDREN'S SVCS         108\n",
      "DEPT OF INFO TECH & TELECOMM      107\n",
      "LAW DEPARTMENT                     90\n",
      "HOUSING PRESERVATION & DVLPMNT     86\n",
      "Name: Agency, dtype: int64\n"
     ]
    }
   ],
   "source": [
    "#Answer\n",
    "df_Top_Agencies = df.Agency.value_counts(ascending=False)\n",
    "print(df_Top_Agencies.head(10))"
   ]
  },
  {
   "cell_type": "code",
   "execution_count": 19,
   "metadata": {},
   "outputs": [
    {
     "data": {
      "image/png": "[encoded data removed]",
      "text/plain": [
       "<Figure size 432x288 with 1 Axes>"
      ]
     },
     "metadata": {
      "needs_background": "light"
     },
     "output_type": "display_data"
    }
   ],
   "source": [
    "#plot\n",
    "(df_Top_Agencies.head(10)/df_Top_Agencies.shape[0]).plot(kind=\"bar\");\n",
    "plt.title(\"Top 10 Agencies in job offering in New York City (in percentage)\");"
   ]
  },
  {
   "cell_type": "markdown",
   "metadata": {},
   "source": [
    "## What is the Top Business Title needed in New Yourk?\n"
   ]
  },
  {
   "cell_type": "code",
   "execution_count": 20,
   "metadata": {},
   "outputs": [
    {
     "data": {
      "image/png": "[encoded data removed]",
      "text/plain": [
       "<Figure size 432x288 with 1 Axes>"
      ]
     },
     "metadata": {
      "needs_background": "light"
     },
     "output_type": "display_data"
    }
   ],
   "source": [
    "#Top Business_title needed in New York?\n",
    "df_b=df['Business_Title'].value_counts()[:10].plot(kind='barh')\n",
    "plt.title(\"Top 10 Business_Title job needed in New York City (in percentage)\");"
   ]
  },
  {
   "cell_type": "markdown",
   "metadata": {},
   "source": [
    "## Full_Time and Part_Time of job posting indicator in New York?"
   ]
  },
  {
   "cell_type": "code",
   "execution_count": 21,
   "metadata": {},
   "outputs": [
    {
     "data": {
      "text/html": [
       "<div>\n",
       "<style scoped>\n",
       "    .dataframe tbody tr th:only-of-type {\n",
       "        vertical-align: middle;\n",
       "    }\n",
       "\n",
       "    .dataframe tbody tr th {\n",
       "        vertical-align: top;\n",
       "    }\n",
       "\n",
       "    .dataframe thead th {\n",
       "        text-align: right;\n",
       "    }\n",
       "</style>\n",
       "<table border=\"1\" class=\"dataframe\">\n",
       "  <thead>\n",
       "    <tr style=\"text-align: right;\">\n",
       "      <th></th>\n",
       "      <th>Job_ID</th>\n",
       "      <th>Agency</th>\n",
       "      <th>Posting_Type</th>\n",
       "      <th>Number_Of_Positions</th>\n",
       "      <th>Business_Title</th>\n",
       "      <th>Civil_Service_Title</th>\n",
       "      <th>Job_Category</th>\n",
       "      <th>Full_Time_and_Part_Time_indicator</th>\n",
       "      <th>Salary_Frequency</th>\n",
       "    </tr>\n",
       "  </thead>\n",
       "  <tbody>\n",
       "    <tr>\n",
       "      <th>1</th>\n",
       "      <td>97899</td>\n",
       "      <td>DEPARTMENT OF BUSINESS SERV.</td>\n",
       "      <td>Internal</td>\n",
       "      <td>1</td>\n",
       "      <td>EXECUTIVE DIRECTOR, BUSINESS DEVELOPMENT</td>\n",
       "      <td>ADMINISTRATIVE BUSINESS PROMOT</td>\n",
       "      <td>NaN</td>\n",
       "      <td>F</td>\n",
       "      <td>Annual</td>\n",
       "    </tr>\n",
       "    <tr>\n",
       "      <th>2</th>\n",
       "      <td>132292</td>\n",
       "      <td>NYC HOUSING AUTHORITY</td>\n",
       "      <td>External</td>\n",
       "      <td>52</td>\n",
       "      <td>Maintenance Worker - Technical Services-Heatin...</td>\n",
       "      <td>MAINTENANCE WORKER</td>\n",
       "      <td>Maintenance &amp; Operations</td>\n",
       "      <td>F</td>\n",
       "      <td>Annual</td>\n",
       "    </tr>\n",
       "    <tr>\n",
       "      <th>3</th>\n",
       "      <td>132292</td>\n",
       "      <td>NYC HOUSING AUTHORITY</td>\n",
       "      <td>Internal</td>\n",
       "      <td>52</td>\n",
       "      <td>Maintenance Worker - Technical Services-Heatin...</td>\n",
       "      <td>MAINTENANCE WORKER</td>\n",
       "      <td>Maintenance &amp; Operations</td>\n",
       "      <td>F</td>\n",
       "      <td>Annual</td>\n",
       "    </tr>\n",
       "    <tr>\n",
       "      <th>4</th>\n",
       "      <td>133921</td>\n",
       "      <td>NYC HOUSING AUTHORITY</td>\n",
       "      <td>Internal</td>\n",
       "      <td>50</td>\n",
       "      <td>Temporary Painter</td>\n",
       "      <td>PAINTER</td>\n",
       "      <td>Maintenance &amp; Operations</td>\n",
       "      <td>F</td>\n",
       "      <td>Hourly</td>\n",
       "    </tr>\n",
       "    <tr>\n",
       "      <th>5</th>\n",
       "      <td>133921</td>\n",
       "      <td>NYC HOUSING AUTHORITY</td>\n",
       "      <td>External</td>\n",
       "      <td>50</td>\n",
       "      <td>Temporary Painter</td>\n",
       "      <td>PAINTER</td>\n",
       "      <td>Maintenance &amp; Operations</td>\n",
       "      <td>F</td>\n",
       "      <td>Hourly</td>\n",
       "    </tr>\n",
       "  </tbody>\n",
       "</table>\n",
       "</div>"
      ],
      "text/plain": [
       "   Job_ID                        Agency Posting_Type  Number_Of_Positions  \\\n",
       "1   97899  DEPARTMENT OF BUSINESS SERV.     Internal                    1   \n",
       "2  132292         NYC HOUSING AUTHORITY     External                   52   \n",
       "3  132292         NYC HOUSING AUTHORITY     Internal                   52   \n",
       "4  133921         NYC HOUSING AUTHORITY     Internal                   50   \n",
       "5  133921         NYC HOUSING AUTHORITY     External                   50   \n",
       "\n",
       "                                      Business_Title  \\\n",
       "1           EXECUTIVE DIRECTOR, BUSINESS DEVELOPMENT   \n",
       "2  Maintenance Worker - Technical Services-Heatin...   \n",
       "3  Maintenance Worker - Technical Services-Heatin...   \n",
       "4                                  Temporary Painter   \n",
       "5                                  Temporary Painter   \n",
       "\n",
       "              Civil_Service_Title              Job_Category  \\\n",
       "1  ADMINISTRATIVE BUSINESS PROMOT                       NaN   \n",
       "2              MAINTENANCE WORKER  Maintenance & Operations   \n",
       "3              MAINTENANCE WORKER  Maintenance & Operations   \n",
       "4                         PAINTER  Maintenance & Operations   \n",
       "5                         PAINTER  Maintenance & Operations   \n",
       "\n",
       "  Full_Time_and_Part_Time_indicator Salary_Frequency  \n",
       "1                                 F           Annual  \n",
       "2                                 F           Annual  \n",
       "3                                 F           Annual  \n",
       "4                                 F           Hourly  \n",
       "5                                 F           Hourly  "
      ]
     },
     "execution_count": 21,
     "metadata": {},
     "output_type": "execute_result"
    }
   ],
   "source": [
    "#Answer\n",
    "##first we remove the nan by using dropna()\n",
    "df= df.dropna(how='any', subset=['Full_Time_and_Part_Time_indicator'])\n",
    "df.head()"
   ]
  },
  {
   "cell_type": "code",
   "execution_count": 22,
   "metadata": {},
   "outputs": [
    {
     "data": {
      "text/html": [
       "<div>\n",
       "<style scoped>\n",
       "    .dataframe tbody tr th:only-of-type {\n",
       "        vertical-align: middle;\n",
       "    }\n",
       "\n",
       "    .dataframe tbody tr th {\n",
       "        vertical-align: top;\n",
       "    }\n",
       "\n",
       "    .dataframe thead th {\n",
       "        text-align: right;\n",
       "    }\n",
       "</style>\n",
       "<table border=\"1\" class=\"dataframe\">\n",
       "  <thead>\n",
       "    <tr style=\"text-align: right;\">\n",
       "      <th></th>\n",
       "      <th>Job_ID</th>\n",
       "      <th>Agency</th>\n",
       "      <th>Posting_Type</th>\n",
       "      <th>Number_Of_Positions</th>\n",
       "      <th>Business_Title</th>\n",
       "      <th>Civil_Service_Title</th>\n",
       "      <th>Job_Category</th>\n",
       "      <th>Full_Time_and_Part_Time_indicator</th>\n",
       "      <th>Salary_Frequency</th>\n",
       "    </tr>\n",
       "  </thead>\n",
       "  <tbody>\n",
       "    <tr>\n",
       "      <th>1</th>\n",
       "      <td>97899</td>\n",
       "      <td>DEPARTMENT OF BUSINESS SERV.</td>\n",
       "      <td>Internal</td>\n",
       "      <td>1</td>\n",
       "      <td>EXECUTIVE DIRECTOR, BUSINESS DEVELOPMENT</td>\n",
       "      <td>ADMINISTRATIVE BUSINESS PROMOT</td>\n",
       "      <td>NaN</td>\n",
       "      <td>1</td>\n",
       "      <td>Annual</td>\n",
       "    </tr>\n",
       "    <tr>\n",
       "      <th>2</th>\n",
       "      <td>132292</td>\n",
       "      <td>NYC HOUSING AUTHORITY</td>\n",
       "      <td>External</td>\n",
       "      <td>52</td>\n",
       "      <td>Maintenance Worker - Technical Services-Heatin...</td>\n",
       "      <td>MAINTENANCE WORKER</td>\n",
       "      <td>Maintenance &amp; Operations</td>\n",
       "      <td>1</td>\n",
       "      <td>Annual</td>\n",
       "    </tr>\n",
       "    <tr>\n",
       "      <th>3</th>\n",
       "      <td>132292</td>\n",
       "      <td>NYC HOUSING AUTHORITY</td>\n",
       "      <td>Internal</td>\n",
       "      <td>52</td>\n",
       "      <td>Maintenance Worker - Technical Services-Heatin...</td>\n",
       "      <td>MAINTENANCE WORKER</td>\n",
       "      <td>Maintenance &amp; Operations</td>\n",
       "      <td>1</td>\n",
       "      <td>Annual</td>\n",
       "    </tr>\n",
       "    <tr>\n",
       "      <th>4</th>\n",
       "      <td>133921</td>\n",
       "      <td>NYC HOUSING AUTHORITY</td>\n",
       "      <td>Internal</td>\n",
       "      <td>50</td>\n",
       "      <td>Temporary Painter</td>\n",
       "      <td>PAINTER</td>\n",
       "      <td>Maintenance &amp; Operations</td>\n",
       "      <td>1</td>\n",
       "      <td>Hourly</td>\n",
       "    </tr>\n",
       "    <tr>\n",
       "      <th>5</th>\n",
       "      <td>133921</td>\n",
       "      <td>NYC HOUSING AUTHORITY</td>\n",
       "      <td>External</td>\n",
       "      <td>50</td>\n",
       "      <td>Temporary Painter</td>\n",
       "      <td>PAINTER</td>\n",
       "      <td>Maintenance &amp; Operations</td>\n",
       "      <td>1</td>\n",
       "      <td>Hourly</td>\n",
       "    </tr>\n",
       "  </tbody>\n",
       "</table>\n",
       "</div>"
      ],
      "text/plain": [
       "   Job_ID                        Agency Posting_Type  Number_Of_Positions  \\\n",
       "1   97899  DEPARTMENT OF BUSINESS SERV.     Internal                    1   \n",
       "2  132292         NYC HOUSING AUTHORITY     External                   52   \n",
       "3  132292         NYC HOUSING AUTHORITY     Internal                   52   \n",
       "4  133921         NYC HOUSING AUTHORITY     Internal                   50   \n",
       "5  133921         NYC HOUSING AUTHORITY     External                   50   \n",
       "\n",
       "                                      Business_Title  \\\n",
       "1           EXECUTIVE DIRECTOR, BUSINESS DEVELOPMENT   \n",
       "2  Maintenance Worker - Technical Services-Heatin...   \n",
       "3  Maintenance Worker - Technical Services-Heatin...   \n",
       "4                                  Temporary Painter   \n",
       "5                                  Temporary Painter   \n",
       "\n",
       "              Civil_Service_Title              Job_Category  \\\n",
       "1  ADMINISTRATIVE BUSINESS PROMOT                       NaN   \n",
       "2              MAINTENANCE WORKER  Maintenance & Operations   \n",
       "3              MAINTENANCE WORKER  Maintenance & Operations   \n",
       "4                         PAINTER  Maintenance & Operations   \n",
       "5                         PAINTER  Maintenance & Operations   \n",
       "\n",
       "   Full_Time_and_Part_Time_indicator Salary_Frequency  \n",
       "1                                  1           Annual  \n",
       "2                                  1           Annual  \n",
       "3                                  1           Annual  \n",
       "4                                  1           Hourly  \n",
       "5                                  1           Hourly  "
      ]
     },
     "execution_count": 22,
     "metadata": {},
     "output_type": "execute_result"
    }
   ],
   "source": [
    "#then we change the coloumn from category to integer to be able to plot it 1= full time and 0= part time\n",
    "df=df.replace({'Full_Time_and_Part_Time_indicator':{'F':1,'P':0}})\n",
    "df.head()"
   ]
  },
  {
   "cell_type": "code",
   "execution_count": 23,
   "metadata": {},
   "outputs": [
    {
     "name": "stdout",
     "output_type": "stream",
     "text": [
      "<class 'pandas.core.frame.DataFrame'>\n",
      "Int64Index: 2722 entries, 1 to 2945\n",
      "Data columns (total 9 columns):\n",
      "Job_ID                               2722 non-null int64\n",
      "Agency                               2722 non-null object\n",
      "Posting_Type                         2722 non-null object\n",
      "Number_Of_Positions                  2722 non-null int64\n",
      "Business_Title                       2722 non-null object\n",
      "Civil_Service_Title                  2722 non-null object\n",
      "Job_Category                         2721 non-null object\n",
      "Full_Time_and_Part_Time_indicator    2722 non-null int64\n",
      "Salary_Frequency                     2722 non-null object\n",
      "dtypes: int64(3), object(6)\n",
      "memory usage: 212.7+ KB\n"
     ]
    }
   ],
   "source": [
    "df.info()"
   ]
  },
  {
   "cell_type": "code",
   "execution_count": 24,
   "metadata": {},
   "outputs": [
    {
     "data": {
      "image/png": "[encoded data removed]",
      "text/plain": [
       "<Figure size 432x288 with 1 Axes>"
      ]
     },
     "metadata": {},
     "output_type": "display_data"
    }
   ],
   "source": [
    "#Full_Time_and_Part_Time_indicator\n",
    "sorted_counts = df['Full_Time_and_Part_Time_indicator'].value_counts()\n",
    "plt.pie(sorted_counts, labels = sorted_counts.index,startangle = 90,counterclock = False);\n",
    "plt.axis('square')\n",
    "plt.title('Full_Time_and_Part_Time_indicator');"
   ]
  },
  {
   "cell_type": "markdown",
   "metadata": {},
   "source": [
    "## What kind of Business Title in new york offerd highest number of job position ?"
   ]
  },
  {
   "cell_type": "code",
   "execution_count": 25,
   "metadata": {},
   "outputs": [
    {
     "data": {
      "text/html": [
       "<div>\n",
       "<style scoped>\n",
       "    .dataframe tbody tr th:only-of-type {\n",
       "        vertical-align: middle;\n",
       "    }\n",
       "\n",
       "    .dataframe tbody tr th {\n",
       "        vertical-align: top;\n",
       "    }\n",
       "\n",
       "    .dataframe thead th {\n",
       "        text-align: right;\n",
       "    }\n",
       "</style>\n",
       "<table border=\"1\" class=\"dataframe\">\n",
       "  <thead>\n",
       "    <tr style=\"text-align: right;\">\n",
       "      <th></th>\n",
       "      <th>Number_Of_Positions</th>\n",
       "      <th>Business_Title</th>\n",
       "    </tr>\n",
       "  </thead>\n",
       "  <tbody>\n",
       "    <tr>\n",
       "      <th>2932</th>\n",
       "      <td>200</td>\n",
       "      <td>City Seasonal Aide/Security Guard</td>\n",
       "    </tr>\n",
       "    <tr>\n",
       "      <th>2933</th>\n",
       "      <td>200</td>\n",
       "      <td>City Seasonal Aide/Security Guard</td>\n",
       "    </tr>\n",
       "    <tr>\n",
       "      <th>2489</th>\n",
       "      <td>120</td>\n",
       "      <td>Police Administrative Aide</td>\n",
       "    </tr>\n",
       "    <tr>\n",
       "      <th>774</th>\n",
       "      <td>91</td>\n",
       "      <td>CARETAKER J</td>\n",
       "    </tr>\n",
       "    <tr>\n",
       "      <th>773</th>\n",
       "      <td>91</td>\n",
       "      <td>CARETAKER J</td>\n",
       "    </tr>\n",
       "    <tr>\n",
       "      <th>719</th>\n",
       "      <td>80</td>\n",
       "      <td>Seasonal City Park Worker</td>\n",
       "    </tr>\n",
       "    <tr>\n",
       "      <th>718</th>\n",
       "      <td>80</td>\n",
       "      <td>Seasonal City Park Worker</td>\n",
       "    </tr>\n",
       "    <tr>\n",
       "      <th>600</th>\n",
       "      <td>80</td>\n",
       "      <td>Sewage Treatment Worker</td>\n",
       "    </tr>\n",
       "    <tr>\n",
       "      <th>601</th>\n",
       "      <td>80</td>\n",
       "      <td>Sewage Treatment Worker</td>\n",
       "    </tr>\n",
       "    <tr>\n",
       "      <th>400</th>\n",
       "      <td>80</td>\n",
       "      <td>ASSISTANT CORPORATION COUNSEL</td>\n",
       "    </tr>\n",
       "  </tbody>\n",
       "</table>\n",
       "</div>"
      ],
      "text/plain": [
       "      Number_Of_Positions                     Business_Title\n",
       "2932                  200  City Seasonal Aide/Security Guard\n",
       "2933                  200  City Seasonal Aide/Security Guard\n",
       "2489                  120         Police Administrative Aide\n",
       "774                    91                        CARETAKER J\n",
       "773                    91                        CARETAKER J\n",
       "719                    80          Seasonal City Park Worker\n",
       "718                    80          Seasonal City Park Worker\n",
       "600                    80            Sewage Treatment Worker\n",
       "601                    80            Sewage Treatment Worker\n",
       "400                    80      ASSISTANT CORPORATION COUNSEL"
      ]
     },
     "execution_count": 25,
     "metadata": {},
     "output_type": "execute_result"
    }
   ],
   "source": [
    "df[['Number_Of_Positions', 'Business_Title']].sort_values('Number_Of_Positions', ascending=False).nlargest(10, 'Number_Of_Positions')"
   ]
  },
  {
   "cell_type": "markdown",
   "metadata": {},
   "source": [
    "<a id='conclusions'></a>\n",
    "# conclusions\n",
    "\n",
    "- the top job posting Agencies in New York City\n",
    "\n",
    "     - DEPT OF ENVIRONMENT PROTECTION\n",
    "     - NYC HOUSING AUTHORITY \n",
    "     - DEPT OF HEALTH/MENTAL HYGIENE \n",
    "     - DEPARTMENT OF TRANSPORTATION \n",
    "     - DEPT OF DESIGN & CONSTRUCTION \n",
    "     - TAXI & LIMOUSINE COMMISSION \n",
    "     - ADMIN FOR CHILDREN'S SVCS \n",
    "     - DEPT OF INFO TECH & TELECOMM \n",
    "     - LAW DEPARTMENT \n",
    "     - HOUSING PRESERVATION & DVLPMNT\n",
    "     \n",
    " - Top Business Title needed in New Yourk?    \n",
    "    - Assistant Civil Engineer \n",
    "    - Project Manager \n",
    "    - College Aide   \n",
    "    - ACCOUNTABLE MANAGER \n",
    "    - Confidential Investigator   \n",
    "    - Watershed Maintainer \n",
    "    - Prosecuting Attorney \n",
    "    - Investigator                                                                            \n",
    "    - Construction Project Manager\n",
    "    - Senior Project Manager\n",
    " - Full_Time and Part_Time job posting indicator show that most jop posting are offering a full time job\n",
    " - The Business Title in new york that offerd highest number of job position are:\n",
    "    -  City Seasonal Aide/Security Guard which offer about 200 job position\n",
    "    -  Police Administrative Aide that offers about 120 job position\n",
    "    -  CARETAKER offers about 91 job position\n",
    "    -  Seasonal City Park Worker 80 job positions\n",
    "    -  Sewage Treatment Worker also about 80 job positions\n",
    "    -  ASSISTANT CORPORATION COUNSEL 80 job positions\n",
    " "
   ]
  },
  {
   "cell_type": "markdown",
   "metadata": {},
   "source": [
    "- Refrencess:\n",
    "     -  https://pandas.pydata.org/pandas-docs/version/0.23/generated/pandas.DataFrame.plot.bar.html\n",
    "     -  https://classroom.udacity.com/nanodegrees/nd002-connect/dashboard/overview\n",
    "     -  https://towardsdatascience.com/a-guide-to-pandas-and-matplotlib-for-data-exploration-56fad95f951c\n",
    "     -  https://www.datacamp.com/community/tutorials/categorical-data\n",
    "     -  https://slack.com/intl/en-sa/\n",
    "     -  https://www.kaggle.com/new-york-city/new-york-city-current-job-postings\n"
   ]
  },
  {
   "cell_type": "code",
   "execution_count": null,
   "metadata": {},
   "outputs": [],
   "source": []
  }
 ],
 "metadata": {
  "kernelspec": {
   "display_name": "Python 3",
   "language": "python",
   "name": "python3"
  },
  "language_info": {
   "codemirror_mode": {
    "name": "ipython",
    "version": 3
   },
   "file_extension": ".py",
   "mimetype": "text/x-python",
   "name": "python",
   "nbconvert_exporter": "python",
   "pygments_lexer": "ipython3",
   "version": "3.7.3"
  }
 },
 "nbformat": 4,
 "nbformat_minor": 2
}
